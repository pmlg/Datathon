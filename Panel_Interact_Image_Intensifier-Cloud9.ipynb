{
 "cells": [
  {
   "cell_type": "code",
   "execution_count": 1,
   "metadata": {},
   "outputs": [
    {
     "name": "stdout",
     "output_type": "stream",
     "text": [
      "Writing Intersifier_Cloud.py\n"
     ]
    }
   ],
   "source": [
    "%%writefile Intersifier_Cloud.py\n",
    "\n",
    "import panel as pn\n",
    "pn.extension()\n",
    "\n",
    "from PIL import Image, ImageFilter\n",
    "import matplotlib.pyplot as plt\n",
    "%matplotlib inline\n",
    "import numpy as np\n",
    "\n",
    "filename = '3.png'\n",
    "\n",
    "ori_img = pn.panel(filename, width=128)  # Panel can't display .tif (use .png instead).\n",
    "\n",
    "def intensifier(filename=filename, b_threshold=5, g_threshold=25, b_intensity=200, g_intensity=200):\n",
    "    imageObject = Image.open(filename)\n",
    "    multiBands  = imageObject.split()\n",
    "    im_r2arr = np.array(multiBands[0])\n",
    "    im_g2arr = np.array(multiBands[1])\n",
    "    im_b2arr = np.array(multiBands[2])\n",
    "\n",
    "    b = im_b2arr >= b_threshold\n",
    "    im_b2arr[b] = b_intensity\n",
    "\n",
    "    g = im_g2arr >= g_threshold\n",
    "    im_g2arr[g] = g_intensity\n",
    "\n",
    "    R = Image.fromarray(im_r2arr)\n",
    "    G = Image.fromarray(im_g2arr)\n",
    "    B = Image.fromarray(im_b2arr)\n",
    "\n",
    "    newImage = Image.merge(\"RGB\", (R, G, B))\n",
    "    return newImage\n",
    "\n",
    "### Using Interact\n",
    "\n",
    "app = pn.interact(intensifier, filename=filename, \n",
    "                  b_threshold=(5, 50), g_threshold=(15, 50), \n",
    "                  b_intensity=(150, 200), g_intensity=(150, 200))\n",
    "\n",
    "title = pn.Column('# Intensifier')\n",
    "\n",
    "row = pn.Row(\n",
    "    pn.Column(title,\n",
    "    \"### Original Image\", ori_img, \n",
    "    \"\\n\"\n",
    "    \"##### Choose the blue channel threshold\", app[0][1],\n",
    "    \"##### Choose the green channel threshold\", app[0][2],\n",
    "    \"##### Choose the intensity for blue colour\", app[0][3],\n",
    "    \"##### Choose the intensity for green colour\",app[0][4]\n",
    "             ),\n",
    "    pn.Column(\n",
    "    \"### Intensified Image\",app[1][0],\n",
    "            )\n",
    "    )\n",
    "\n",
    "row.servable()\n",
    "\n",
    "row.show()\n",
    "\n"
   ]
  },
  {
   "cell_type": "code",
   "execution_count": null,
   "metadata": {},
   "outputs": [],
   "source": []
  }
 ],
 "metadata": {
  "kernelspec": {
   "display_name": "holoviz-tutorial",
   "language": "python",
   "name": "holoviz-tutorial"
  },
  "language_info": {
   "codemirror_mode": {
    "name": "ipython",
    "version": 3
   },
   "file_extension": ".py",
   "mimetype": "text/x-python",
   "name": "python",
   "nbconvert_exporter": "python",
   "pygments_lexer": "ipython3",
   "version": "3.7.9"
  }
 },
 "nbformat": 4,
 "nbformat_minor": 4
}
